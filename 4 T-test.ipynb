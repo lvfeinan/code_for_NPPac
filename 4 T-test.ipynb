{
 "cells": [
  {
   "cell_type": "code",
   "execution_count": null,
   "metadata": {},
   "outputs": [],
   "source": [
    "from utils import *\n",
    "from matplotlib.lines import Line2D\n",
    "from scipy.stats import ttest_rel"
   ]
  },
  {
   "cell_type": "code",
   "execution_count": 2,
   "metadata": {},
   "outputs": [],
   "source": [
    "dic_region = {\"Northern Africa and Western Asia\": \"N. Africa W. Asia\", \"Sub-Saharan Africa\": \"Sub-Saharan Africa\", \"Central Asia and Russian Federation\": \"C. Asia\", \"Eastern Asia\": \"E. Asia\", \"Southern Asia\": \"S. Asia\", \"Southeastern Asia\": \"S. Asia\", \"Northern America\": \"N. America\", \"Latin America and the Caribbean\": \"Latin America\", \"Western Europe\": \"W. Europe\", \"Eastern and South-Eastern Europe\": \"E. Europe\", \"Oceania and Australia\": \"Oceania\",}\n",
    "gdf_countries = gdf_world.reset_index(drop=True).reset_index().rename(columns={\"index\": \"idx\"})\n",
    "gdf_countries[\"regi_short\"] = gdf_countries[\"regi_pnas\"].map(dic_region)\n",
    "country_to_region = gdf_countries.set_index(\"name_long\")[\"regi_short\"].to_dict()"
   ]
  },
  {
   "cell_type": "code",
   "execution_count": 43,
   "metadata": {},
   "outputs": [],
   "source": [
    "def load_df_diff_matched(radius):\n",
    "    df_matched_m_lst = []\n",
    "    df_diff_m_lst = []\n",
    "    for year in range(2002, 2023):\n",
    "        df_matched_m_lst.append(pd.read_csv(path_data / f\"PSM_results/matched/{radius}km_{year}.csv\", index_col=0))\n",
    "        df_diff_m_lst.append(pd.read_csv(path_data / f\"PSM_results/diff/{radius}km_{year}.csv\", index_col=0))\n",
    "    df_diff_m_all = pd.concat(df_diff_m_lst)\n",
    "    df_matched_m_all = pd.concat(df_matched_m_lst)\n",
    "    return df_matched_m_all, df_diff_m_all"
   ]
  },
  {
   "cell_type": "markdown",
   "metadata": {},
   "source": [
    "# ttest function"
   ]
  },
  {
   "cell_type": "code",
   "execution_count": 15,
   "metadata": {},
   "outputs": [],
   "source": [
    "def ttest_1luc(df_matched_m_all, luc=\"crop\"):\n",
    "    df_match_m_1luc = df_matched_m_all.reset_index(drop=True)\n",
    "    df_match_m_1luc[\"region\"] = df_match_m_1luc[\"country\"].map(country_to_region)\n",
    "\n",
    "    df_diff_m_1luc = df_diff_m_all.reset_index(drop=True)\n",
    "    df_diff_m_1luc[\"region\"] = df_diff_m_1luc[\"country\"].map(country_to_region)\n",
    "\n",
    "    df_npp_diff_country = pd.read_csv(path_data / f\"npp/{luc}_npp_diff.csv\").rename(columns={\"name_long\": \"country\"})\n",
    "    df_npp_diff_country = df_npp_diff_country.melt(id_vars=\"country\", var_name=\"year\", value_name=f\"{luc}_npp_diff_country\")\\\n",
    "        .assign(year=lambda _df: _df[\"year\"].astype(int))\n",
    "    df_match_m_1luc = df_match_m_1luc.merge(df_npp_diff_country, on=[\"country\", \"year\"], how=\"left\")\n",
    "    df_match_m_1luc.loc[:, f\"{luc}_npp_change_n\"] = df_match_m_1luc[[f\"{luc}_npp_change_n\", f\"{luc}_npp_diff_country\"]].bfill(axis=1).iloc[:, 0]\n",
    "        \n",
    "    ttest_1luc_data = []\n",
    "    for (year, country), df_gp in list(df_match_m_1luc.groupby([\"year\", \"country\"])):\n",
    "        df_gp = df_gp[[f\"{luc}_change\", f\"{luc}_change_n\"]].copy().dropna()\n",
    "        if df_gp.shape[0] < 5:\n",
    "            t_stat, t_p, diff_mean, diff_std = np.nan, np.nan, np.nan, np.nan\n",
    "        else:\n",
    "            t_stat, t_p = ttest_rel(df_gp[f\"{luc}_change\"].values, df_gp[f\"{luc}_change_n\"].values)\n",
    "            diff_mean = np.mean(df_gp[f\"{luc}_change\"].values - df_gp[f\"{luc}_change_n\"].values)\n",
    "            diff_std = np.std(df_gp[f\"{luc}_change\"].values - df_gp[f\"{luc}_change_n\"].values)\n",
    "        ttest_1luc_data.append([\n",
    "            year, country, t_stat, t_p, diff_mean, diff_std\n",
    "        ])\n",
    "    df_1luc_change_tt_test = pd.DataFrame(ttest_1luc_data, columns=[\n",
    "        \"year\", \"country\", \"t_stat\", \"t_p\", \"diff_mean\", \"diff_std\"\n",
    "    ])\n",
    "    \n",
    "    ttest_1luc_data = []\n",
    "    for (year, country), df_gp in list(df_match_m_1luc.groupby([\"year\", \"country\"])):\n",
    "        with warnings.catch_warnings(record=True) as w:\n",
    "            df_gp = df_gp[[f\"{luc}_npp_change\", f\"{luc}_npp_change_n\"]].copy().dropna()\n",
    "            if df_gp.shape[0] < 5:\n",
    "                t_stat, t_p, diff_mean, diff_std = np.nan, np.nan, np.nan, np.nan\n",
    "            else:\n",
    "                t_stat, t_p = ttest_rel(df_gp[f\"{luc}_npp_change\"].values, df_gp[f\"{luc}_npp_change_n\"].values)\n",
    "                diff_mean = np.mean(df_gp[f\"{luc}_npp_change\"].values - df_gp[f\"{luc}_npp_change_n\"].values)\n",
    "                diff_std = np.std(df_gp[f\"{luc}_npp_change\"].values - df_gp[f\"{luc}_npp_change_n\"].values)\n",
    "                if w:\n",
    "                    for warning in w:\n",
    "                        print(year, country)\n",
    "            ttest_1luc_data.append([\n",
    "                year, country, t_stat, t_p, diff_mean, diff_std])\n",
    "    df_1luc_npp_change_tt_test = pd.DataFrame(ttest_1luc_data, columns=[\n",
    "        \"year\", \"country\", \"t_stat\", \"t_p\", \"diff_mean\", \"diff_std\"\n",
    "    ])\n",
    "    return df_1luc_change_tt_test, df_1luc_npp_change_tt_test"
   ]
  },
  {
   "cell_type": "markdown",
   "metadata": {},
   "source": [
    "# combine ttest"
   ]
  },
  {
   "cell_type": "code",
   "execution_count": 45,
   "metadata": {},
   "outputs": [],
   "source": [
    "def combine_ttest_1lucs(tt_test_results, tt_test_col):\n",
    "    tt_test_reclass_lst = []\n",
    "    for tt_test_df, col_ in zip(tt_test_results, tt_test_col):\n",
    "        tt_test_reclass = tt_test_df\\\n",
    "            .assign(sig=lambda _df: (_df[\"t_p\"]<0.05).astype(int))\\\n",
    "            .assign(increase=lambda _df: (_df[\"t_stat\"]>0).astype(int)* 2 - 1)\\\n",
    "            .assign(type_=lambda _df: _df[\"sig\"] * _df[\"increase\"])\\\n",
    "            .rename(columns={\"type_\": f\"{col_}\"})\\\n",
    "            .set_index([\"year\", \"country\"])[[f\"{col_}\"]]\n",
    "        \n",
    "        tt_test_reclass_lst.append(tt_test_reclass)\n",
    "    df_ttest_merge = pd.DataFrame(index=tt_test_reclass.index).copy()\n",
    "    for tt_test_reclass in tt_test_reclass_lst:\n",
    "        df_ttest_merge = df_ttest_merge.join(tt_test_reclass, how=\"outer\")\n",
    "    df_ttest_merge.fillna(0)\n",
    "    return df_ttest_merge"
   ]
  },
  {
   "cell_type": "markdown",
   "metadata": {},
   "source": [
    "# pipline"
   ]
  },
  {
   "cell_type": "code",
   "execution_count": 46,
   "metadata": {},
   "outputs": [],
   "source": [
    "def ttest_pipline(radius, out_file):\n",
    "    df_matched_m_all, df_diff_m_all = load_df_diff_matched(radius)\n",
    "    \n",
    "    df_crop_change_tt_test, df_crop_npp_change_tt_test = ttest_1luc(df_matched_m_all, luc=\"crop\")\n",
    "    df_forest_change_tt_test, df_forest_npp_change_tt_test = ttest_1luc(df_matched_m_all, luc=\"forest\")\n",
    "    df_grass_change_tt_test, df_grass_npp_change_tt_test = ttest_1luc(df_matched_m_all, luc=\"grass\")\n",
    "    \n",
    "    tt_test_results = [df_crop_change_tt_test, df_crop_npp_change_tt_test, df_forest_change_tt_test, df_forest_npp_change_tt_test, df_grass_change_tt_test, df_grass_npp_change_tt_test, ]\n",
    "    tt_test_col = [\"crop_change\", \"crop_npp_change\", \"forest_change\", \"forest_npp_change\", \"grass_change\", \"grass_npp_change\", ]\n",
    "    \n",
    "    df_ttest_merge = combine_ttest_1lucs(tt_test_results, tt_test_col)\n",
    "    df_ttest_merge.to_csv(out_file)\n",
    "    "
   ]
  },
  {
   "cell_type": "code",
   "execution_count": 49,
   "metadata": {},
   "outputs": [],
   "source": [
    "radius = 10\n",
    "if not (out_file := path_data / f\"PSM_results/ttest/{radius}km.csv\").exists():\n",
    "    ttest_pipline(radius, out_file)"
   ]
  }
 ],
 "metadata": {
  "kernelspec": {
   "display_name": "pyg1",
   "language": "python",
   "name": "python3"
  },
  "language_info": {
   "codemirror_mode": {
    "name": "ipython",
    "version": 3
   },
   "file_extension": ".py",
   "mimetype": "text/x-python",
   "name": "python",
   "nbconvert_exporter": "python",
   "pygments_lexer": "ipython3",
   "version": "3.11.6"
  }
 },
 "nbformat": 4,
 "nbformat_minor": 2
}
