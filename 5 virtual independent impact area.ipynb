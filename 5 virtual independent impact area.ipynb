{
 "cells": [
  {
   "cell_type": "code",
   "execution_count": 1,
   "metadata": {},
   "outputs": [],
   "source": [
    "from utils import *\n",
    "import warnings\n",
    "warnings.filterwarnings(\"ignore\")\n",
    "from shapely import Polygon, box, Point"
   ]
  },
  {
   "cell_type": "code",
   "execution_count": null,
   "metadata": {},
   "outputs": [],
   "source": [
    "bbox = box(-180, -60, 180, 85)\n",
    "km = 1 / 120"
   ]
  },
  {
   "cell_type": "code",
   "execution_count": 4,
   "metadata": {},
   "outputs": [],
   "source": [
    "def get_gdf_conflict_1year(year):\n",
    "    shp_file = path_data / f\"PSM/sample_point/conflict_{year}.shp\"\n",
    "    gdf_conflict_1year = gpd.read_file(shp_file)\n",
    "    return gdf_conflict_1year"
   ]
  },
  {
   "cell_type": "code",
   "execution_count": 6,
   "metadata": {},
   "outputs": [],
   "source": [
    "def cal_voronoi_ratio(year, radius):\n",
    "    gdf_conflict_1year = get_gdf_conflict_1year(year)\n",
    "    gdf_voronoi = gpd.GeoDataFrame({}, geometry=gdf_conflict_1year.voronoi_polygons(extend_to=bbox))\n",
    "\n",
    "    gdf_voronoi_clip = gdf_voronoi.sjoin(gdf_conflict_1year)\\\n",
    "        .assign(geo_buffer=lambda _df: _df[[\"x\", \"y\"]].apply(lambda xy: Point(*xy).buffer(radius * km, quad_segs=64), axis=1))\\\n",
    "        .assign(voronoi_clip=lambda _df: _df[[\"geometry\", \"geo_buffer\"]].apply(lambda g_: g_[0].intersection(g_[1]), axis=1))\n",
    "    gdf_voronoi_clip = gdf_voronoi_clip.drop(columns=[\"geometry\", \"geo_buffer\"])\\\n",
    "        .rename(columns={\"voronoi_clip\": \"geometry\"}).set_geometry(\"geometry\")\\\n",
    "        .assign(area=lambda _df: _df.area)\\\n",
    "        .assign(ratio=lambda _df: _df[\"area\"] / ((radius * km) **2 * np.pi))\n",
    "    df_voronoi_ratio = gdf_voronoi_clip[[\"idx\", \"ratio\"]].assign(year=year)\n",
    "    return df_voronoi_ratio"
   ]
  },
  {
   "cell_type": "code",
   "execution_count": 7,
   "metadata": {},
   "outputs": [],
   "source": [
    "def cal_voronoi_ratio_1radius(radius):\n",
    "    lst_df_voronoi_ratio = []\n",
    "    for year in range(2002, 2023):\n",
    "        df_voronoi_ratio = cal_voronoi_ratio(year, radius).sort_values(\"idx\").reset_index(drop=True)\n",
    "        lst_df_voronoi_ratio.append(df_voronoi_ratio)\n",
    "    df_voronoi_ratio_m = pd.concat(lst_df_voronoi_ratio).reset_index(drop=True).assign(radius=radius)\n",
    "    return df_voronoi_ratio_m"
   ]
  },
  {
   "cell_type": "code",
   "execution_count": 12,
   "metadata": {},
   "outputs": [],
   "source": [
    "rafius = 10\n",
    "if not (out_file:=path_data / f\"PSM/voronoi/{radius}km.csv\").exists():\n",
    "    df_voronoi_ratio_m = cal_voronoi_ratio_1radius(radius)\n",
    "    df_voronoi_ratio_m.to_csv(out_file)"
   ]
  }
 ],
 "metadata": {
  "kernelspec": {
   "display_name": "pyg2",
   "language": "python",
   "name": "pyg2"
  },
  "language_info": {
   "codemirror_mode": {
    "name": "ipython",
    "version": 3
   },
   "file_extension": ".py",
   "mimetype": "text/x-python",
   "name": "python",
   "nbconvert_exporter": "python",
   "pygments_lexer": "ipython3",
   "version": "3.11.9"
  }
 },
 "nbformat": 4,
 "nbformat_minor": 2
}
